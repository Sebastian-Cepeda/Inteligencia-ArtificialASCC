{
 "cells": [
  {
   "cell_type": "code",
   "execution_count": 1,
   "id": "42038019",
   "metadata": {},
   "outputs": [
    {
     "name": "stdout",
     "output_type": "stream",
     "text": [
      "['shark', 'cuttlefish', 'squid', 'mantis shrimp', 'anemone']\n"
     ]
    }
   ],
   "source": [
    "sea_creatures = ['shark', 'cuttlefish', 'squid',\n",
    "'mantis shrimp', 'anemone']\n",
    "print(sea_creatures)\n",
    "print(sea_creatures[1])\n"
   ]
  },
  {
   "cell_type": "code",
   "execution_count": 4,
   "id": "1fc939e7",
   "metadata": {},
   "outputs": [
    {
     "name": "stdout",
     "output_type": "stream",
     "text": [
      "squid\n",
      "Sammy is a shark\n"
     ]
    }
   ],
   "source": [
    "sea_creatures[0] = 'shark'\n",
    "sea_creatures[1] = 'cuttlefish'\n",
    "sea_creatures[2] = 'squid'\n",
    "sea_creatures[3] = 'mantis shrimp'\n",
    "sea_creatures[4] = 'anemone'\n",
    "\n",
    "#print(sea_creatures[18])\n",
    "print(sea_creatures[-3])\n",
    "print('Sammy is a ' + sea_creatures[0])"
   ]
  },
  {
   "cell_type": "code",
   "execution_count": 5,
   "id": "4d0cc5cf",
   "metadata": {},
   "outputs": [
    {
     "name": "stdout",
     "output_type": "stream",
     "text": [
      "['shark', 'octopus', 'squid', 'mantis shrimp', 'anemone']\n",
      "['shark', 'octopus', 'blobfish', 'mantis shrimp', 'anemone']\n",
      "['octopus', 'blobfish', 'mantis shrimp']\n"
     ]
    }
   ],
   "source": [
    "sea_creatures[0] = 'shark'\n",
    "sea_creatures[1] = 'cuttlefish'\n",
    "sea_creatures[2] = 'squid'\n",
    "sea_creatures[3] = 'mantis shrimp'\n",
    "sea_creatures[4] = 'anemone'\n",
    "\n",
    "sea_creatures[1] = 'octopus'\n",
    "print(sea_creatures)\n",
    "\n",
    "sea_creatures[-3] = 'blobfish'\n",
    "print(sea_creatures)\n",
    "\n"
   ]
  },
  {
   "cell_type": "code",
   "execution_count": 6,
   "id": "3f1ee619",
   "metadata": {},
   "outputs": [
    {
     "name": "stdout",
     "output_type": "stream",
     "text": [
      "['cuttlefish', 'squid', 'mantis shrimp']\n",
      "['shark', 'cuttlefish', 'squid']\n",
      "['squid', 'mantis shrimp', 'anemone']\n",
      "['cuttlefish', 'squid']\n",
      "['squid', 'mantis shrimp', 'anemone']\n",
      "[1, 3, 5, 7, 9]\n",
      "[0, 3, 6, 9, 12]\n"
     ]
    }
   ],
   "source": [
    "sea_creatures[0] = 'shark'\n",
    "sea_creatures[1] = 'cuttlefish'\n",
    "sea_creatures[2] = 'squid'\n",
    "sea_creatures[3] = 'mantis shrimp'\n",
    "sea_creatures[4] = 'anemone'\n",
    "\n",
    "print(sea_creatures[1:4])\n",
    "\n",
    "print(sea_creatures[:3])\n",
    "\n",
    "print(sea_creatures[2:])\n",
    "\n",
    "print(sea_creatures[-4:-2])\n",
    "print(sea_creatures[-3:])\n",
    "\n",
    "numbers = [0, 1, 2, 3, 4, 5, 6, 7, 8, 9, 10, 11, 12]\n",
    "print(numbers[1:11:2])\n",
    "\n",
    "print(numbers[::3])"
   ]
  },
  {
   "cell_type": "code",
   "execution_count": 7,
   "id": "1476b07f",
   "metadata": {},
   "outputs": [
    {
     "name": "stdout",
     "output_type": "stream",
     "text": [
      "['shark', 'octopus', 'blobfish', 'mantis shrimp', 'anemone', 'Pacific', 'Atlantic', 'Indian', 'Southern', 'Arctic']\n",
      "['shark', 'octopus', 'blobfish', 'mantis shrimp', 'anemone', 'yeti crab']\n",
      "['shark', 'octopus', 'blobfish', 'mantis shrimp', 'anemone', 'yeti crab', 'shark', 'octopus', 'blobfish', 'mantis shrimp', 'anemone', 'yeti crab']\n",
      "['Pacific', 'Atlantic', 'Indian', 'Southern', 'Arctic', 'Pacific', 'Atlantic', 'Indian', 'Southern', 'Arctic', 'Pacific', 'Atlantic', 'Indian', 'Southern', 'Arctic']\n",
      "['shark', 'octopus', 'blobfish', 'mantis shrimp', 'anemone', 'yeti crab', 'fish']\n",
      "['shark', 'octopus', 'blobfish', 'mantis shrimp', 'anemone', 'yeti crab', 'fish', 'fish']\n",
      "['shark', 'octopus', 'blobfish', 'mantis shrimp', 'anemone', 'yeti crab', 'fish', 'fish', 'fish']\n",
      "['shark', 'shark']\n",
      "['shark', 'shark', 'shark', 'shark']\n",
      "['shark', 'shark', 'shark', 'shark', 'shark', 'shark', 'shark', 'shark']\n"
     ]
    }
   ],
   "source": [
    "sea_creatures = ['shark', 'octopus', 'blobfish',\n",
    "'mantis shrimp', 'anemone']\n",
    "oceans = ['Pacific', 'Atlantic', 'Indian', 'Southern',\n",
    "'Arctic']\n",
    "print(sea_creatures + oceans)\n",
    "\n",
    "sea_creatures = sea_creatures + ['yeti crab']\n",
    "print (sea_creatures)\n",
    "\n",
    "print(sea_creatures * 2)\n",
    "print(oceans * 3)\n",
    "\n",
    "for x in range(1,4):\n",
    "    sea_creatures += ['fish']\n",
    "    print(sea_creatures)\n",
    "\n",
    "sharks = ['shark']\n",
    "for x in range(1,4):\n",
    "    sharks *= 2\n",
    "    print(sharks)\n"
   ]
  },
  {
   "cell_type": "code",
   "execution_count": 9,
   "id": "988d0d3d",
   "metadata": {},
   "outputs": [
    {
     "name": "stdout",
     "output_type": "stream",
     "text": [
      "['shark', 'blobfish', 'mantis shrimp', 'anemone', 'yeti crab']\n",
      "['shark', 'anemone', 'yeti crab']\n",
      "Sammy\n",
      "shark\n"
     ]
    }
   ],
   "source": [
    "sea_creatures =['shark', 'octopus', 'blobfish',\n",
    "'mantis shrimp', 'anemone', 'yeti crab']\n",
    "del sea_creatures[1]\n",
    "print(sea_creatures)\n",
    "\n",
    "sea_creatures =['shark', 'octopus', 'blobfish',\n",
    "'mantis shrimp', 'anemone', 'yeti crab']\n",
    "del sea_creatures[1:4]\n",
    "print(sea_creatures)\n",
    "\n",
    "sea_names = [['shark', 'octopus', 'squid', 'mantis', 'shrimp'],['Sammy', 'Jesse', 'Drew', 'Jamie']]\n",
    "\n",
    "print(sea_names[1][0])\n",
    "print(sea_names[0][0])\n",
    "\n",
    "sea_names[0][0] = 'shark'\n",
    "sea_names[0][1] = 'octopus'\n",
    "sea_names[0][2] = 'squid'\n",
    "sea_names[0][3] = 'mantis shrimp'\n",
    "sea_names[1][0] = 'Sammy'\n",
    "sea_names[1][1] = 'Jesse'\n",
    "sea_names[1][2] = 'Drew'\n",
    "sea_names[1][3] = 'Jamie'"
   ]
  },
  {
   "cell_type": "code",
   "execution_count": null,
   "id": "e7aec218",
   "metadata": {},
   "outputs": [],
   "source": []
  }
 ],
 "metadata": {
  "kernelspec": {
   "display_name": "Python 3 (ipykernel)",
   "language": "python",
   "name": "python3"
  },
  "language_info": {
   "codemirror_mode": {
    "name": "ipython",
    "version": 3
   },
   "file_extension": ".py",
   "mimetype": "text/x-python",
   "name": "python",
   "nbconvert_exporter": "python",
   "pygments_lexer": "ipython3",
   "version": "3.9.7"
  }
 },
 "nbformat": 4,
 "nbformat_minor": 5
}
